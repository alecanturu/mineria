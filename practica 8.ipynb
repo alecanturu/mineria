{
 "cells": [
  {
   "cell_type": "code",
   "execution_count": 8,
   "id": "5c8c4e77-201f-47e4-a1ef-2faba999f022",
   "metadata": {},
   "outputs": [],
   "source": [
    "import pandas as pd\n",
    "import matplotlib.pyplot as plt\n",
    "import seaborn as sns\n",
    "import numpy as np\n",
    "from scipy.stats import norm\n",
    "from sklearn.preprocessing import StandardScaler\n",
    "from scipy import stats\n",
    "import warnings"
   ]
  },
  {
   "cell_type": "code",
   "execution_count": 9,
   "id": "f7fe21a2-a453-40b3-9e54-37248d5f1e9a",
   "metadata": {},
   "outputs": [],
   "source": [
    "df_train = pd.read_csv('train.csv')"
   ]
  },
  {
   "cell_type": "code",
   "execution_count": null,
   "id": "359c1782-76c9-4828-b17f-103a1ce9dead",
   "metadata": {},
   "outputs": [],
   "source": [
    "%matplotlib inline"
   ]
  },
  {
   "cell_type": "code",
   "execution_count": 10,
   "id": "9ca80df6-c096-453e-84cd-a567fa4ac4b8",
   "metadata": {},
   "outputs": [
    {
     "data": {
      "text/plain": [
       "180921.19589041095"
      ]
     },
     "execution_count": 10,
     "metadata": {},
     "output_type": "execute_result"
    }
   ],
   "source": [
    "df_train['SalePrice'].mean()"
   ]
  },
  {
   "cell_type": "code",
   "execution_count": null,
   "id": "fab3e86f-116d-4ae0-99f2-88cbf088cd56",
   "metadata": {},
   "outputs": [],
   "source": [
    "df_train.describe()"
   ]
  },
  {
   "cell_type": "code",
   "execution_count": null,
   "id": "e12d0fa4-5c0e-48b3-8abf-2dc0083dc40a",
   "metadata": {},
   "outputs": [],
   "source": [
    "df_train['SalePrice'].describe()"
   ]
  },
  {
   "cell_type": "code",
   "execution_count": null,
   "id": "f98fb1ce-c1dc-46e8-b717-8240db2780cb",
   "metadata": {},
   "outputs": [],
   "source": [
    "all_data = pd.concat((train.loc[:,'MSSubClass':'SaleCondition'],\n",
    "                      test.loc[:,'MSSubClass':'SaleCondition'])) "
   ]
  },
  {
   "cell_type": "code",
   "execution_count": null,
   "id": "6c9d6baf-cd57-4f17-b216-9f1ce1c230db",
   "metadata": {},
   "outputs": [],
   "source": [
    "data_targ.drop(['SalePrice'], axis=1, inplace=True)\n",
    "nrm = Normalizer()\n",
    "nrm.fit(data_targ)\n",
    "normal_data = nrm.transform(data_targ)"
   ]
  },
  {
   "cell_type": "code",
   "execution_count": null,
   "id": "29011a01-5f87-4981-bd6d-64840c7a7344",
   "metadata": {},
   "outputs": [],
   "source": [
    "tsn = TSNE(random_state=20)\n",
    "res_tsne = tsn.fit_transform(normal_data)\n",
    "plt.figure(figsize=(8,8))\n",
    "sns.scatterplot(res_tsne[:,0], res_tsne[:,1]);"
   ]
  },
  {
   "cell_type": "code",
   "execution_count": null,
   "id": "79f7d344-3019-4ae6-99ec-e58bff535ca7",
   "metadata": {},
   "outputs": [],
   "source": [
    "link = ward(res_tsne)\n",
    "vb = fcluster(link,t=300, criterion='distance')\n",
    "fig = plt.figure(figsize=(25,25))\n",
    "ax1 = fig.add_subplot(3,3,1)\n",
    "pd.value_counts(vb).plot(kind='barh')\n",
    "ax2 = fig.add_subplot(3,3,2)\n",
    "axpl_2 = sns.scatterplot(x=res_tsne[:,0],y=res_tsne[:,1],hue=vb,palette=\"Set1\");\n",
    "axpl_2.legend_.remove()"
   ]
  },
  {
   "cell_type": "code",
   "execution_count": null,
   "id": "3dbbe5b5-d94b-4563-bcc1-d782dd36cf20",
   "metadata": {},
   "outputs": [],
   "source": [
    "sns.set(style='white')\n",
    "plt.figure(figsize=(10,7))\n",
    "dendrogram(link)\n",
    "ax = plt.gca()\n",
    "bounds = ax.get_xbound()\n",
    "ax.plot(bounds, [300,300],'--', c='k')\n",
    "ax.plot(bounds,'--', c='k')\n",
    "plt.show()"
   ]
  },
  {
   "cell_type": "code",
   "execution_count": null,
   "id": "4563d5d1-630c-4a73-a6ae-de52763e8dd7",
   "metadata": {},
   "outputs": [],
   "source": [
    "assign = vb\n",
    "cluster_labels=np.unique(assign)\n",
    "n_clusters = len(np.unique(assign))\n",
    "silhouette_vals = silhouette_samples(res_tsne, assign, metric='euclidean')\n",
    "y_ax_lower, y_ax_upper = 0, 0\n",
    "yticks = []\n",
    "plt.figure(figsize=(10, 8))\n",
    "for i, c in enumerate(cluster_labels):\n",
    "        c_silhouette_vals = silhouette_vals[assign==c]\n",
    "        c_silhouette_vals.sort()\n",
    "        y_ax_upper += len(c_silhouette_vals)\n",
    "        color = cm.jet(float(i) / n_clusters)\n",
    "        plt.barh(range(y_ax_lower, y_ax_upper),\n",
    "                c_silhouette_vals, height=1.0, edgecolor='none', color=color)\n",
    "        yticks.append((y_ax_lower + y_ax_upper) / 2)\n",
    "        y_ax_lower += len(c_silhouette_vals)\n",
    "silhouette_avg = np.mean(silhouette_vals)\n",
    "\n",
    "plt.axvline(silhouette_avg, color=\"red\", linestyle=\"--\")\n",
    "plt.yticks(yticks, cluster_labels + 1)\n",
    "plt.ylabel ('Cluster')\n",
    "plt.xlabel('Silhouette coefficient')"
   ]
  },
  {
   "cell_type": "code",
   "execution_count": null,
   "id": "f725d44c-0834-4a95-b5bf-2f377678d156",
   "metadata": {},
   "outputs": [],
   "source": [
    "plt.figure(figsize=(10,10))\n",
    "sns.set(font_scale=1.5)\n",
    "sns.scatterplot(x=res_tsne[:,0],y=res_tsne[:,1],\\\n",
    "                     hue=data_new['SalePrice'],s=70,palette=\"hot\");#,palette=\"RdBu\");"
   ]
  },
  {
   "cell_type": "code",
   "execution_count": null,
   "id": "022b793c-6430-4157-acf5-aa27c0137c93",
   "metadata": {},
   "outputs": [],
   "source": [
    "most_sign = ['OverallQual','GrLivArea','1stFlrSF','FullBath']\n",
    "n_row, n_col = 2, 2\n",
    "fig, axes = plt.subplots(nrows=n_row, ncols=n_col, figsize=(15,15))\n",
    "sns.set(font_scale=1)\n",
    "sns.axes_style(\"whitegrid\")\n",
    "for i in enumerate(most_sign):\n",
    "    qq = sns.scatterplot(\n",
    "        x=res_tsne[:,0], y=res_tsne[:,1], ax=axes[i[0]//n_row,i[0]%n_col],\n",
    "        hue=data_new[i[1]], s=70, palette=\"RdBu\"\n",
    "    );\n",
    "plt.legend().set_title('')\n",
    "plt.tight_layout()"
   ]
  }
 ],
 "metadata": {
  "kernelspec": {
   "display_name": "Python 3 (ipykernel)",
   "language": "python",
   "name": "python3"
  },
  "language_info": {
   "codemirror_mode": {
    "name": "ipython",
    "version": 3
   },
   "file_extension": ".py",
   "mimetype": "text/x-python",
   "name": "python",
   "nbconvert_exporter": "python",
   "pygments_lexer": "ipython3",
   "version": "3.10.9"
  }
 },
 "nbformat": 4,
 "nbformat_minor": 5
}
