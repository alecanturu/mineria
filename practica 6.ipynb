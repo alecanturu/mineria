{
 "cells": [
  {
   "cell_type": "code",
   "execution_count": 26,
   "id": "5c8c4e77-201f-47e4-a1ef-2faba999f022",
   "metadata": {},
   "outputs": [],
   "source": [
    "import pandas as pd\n",
    "import matplotlib.pyplot as plt\n",
    "import numpy as np\n",
    "import statsmodels.api as sm\n",
    "from patsy import dmatrices\n",
    "from os import path"
   ]
  },
  {
   "cell_type": "code",
   "execution_count": 27,
   "id": "f7fe21a2-a453-40b3-9e54-37248d5f1e9a",
   "metadata": {},
   "outputs": [],
   "source": [
    "train_df = pd.read_csv('train.csv')"
   ]
  },
  {
   "cell_type": "code",
   "execution_count": 29,
   "id": "7c17e922-3821-4bfe-ab80-e2ec0f7face2",
   "metadata": {},
   "outputs": [],
   "source": [
    "train_df.rename(columns={ '1stFlrSF':'FirstFlrSF' },inplace=True)"
   ]
  },
  {
   "cell_type": "code",
   "execution_count": 30,
   "id": "9ef8e0d1-70e7-4186-90fa-65a154ffc664",
   "metadata": {},
   "outputs": [
    {
     "data": {
      "text/plain": [
       "<matplotlib.collections.PathCollection at 0x1df60e44250>"
      ]
     },
     "execution_count": 30,
     "metadata": {},
     "output_type": "execute_result"
    },
    {
     "data": {
      "image/png": "[encoded data removed]",
      "text/plain": [
       "<Figure size 640x480 with 1 Axes>"
      ]
     },
     "metadata": {},
     "output_type": "display_data"
    }
   ],
   "source": [
    "fig, ax = plt.subplots()\n",
    "x = train_df\n",
    "ax.scatter(x['FirstFlrSF'],x['SalePrice'])"
   ]
  },
  {
   "cell_type": "code",
   "execution_count": 31,
   "id": "a6f28977-4da0-40d8-a02a-ba7552ec53ad",
   "metadata": {},
   "outputs": [],
   "source": [
    "def estimate_ols(x,y):\n",
    "    x_mean = np.mean(x)\n",
    "    y_mean = np.mean(y)\n",
    "\n",
    "    b1 = np.sum(np.multiply(x - x_mean, y - y_mean)) / np.inner(x-x_mean,x-x_mean)\n",
    "    b0 = y_mean - b1*x_mean\n",
    "\n",
    "    return b0, b1"
   ]
  },
  {
   "cell_type": "code",
   "execution_count": 32,
   "id": "d017a503-dae0-4889-8365-22ec029c82b0",
   "metadata": {},
   "outputs": [
    {
     "data": {
      "text/html": [
       "<table class=\"simpletable\">\n",
       "<caption>OLS Regression Results</caption>\n",
       "<tr>\n",
       "  <th>Dep. Variable:</th>            <td>y</td>        <th>  R-squared:         </th> <td>   0.367</td> \n",
       "</tr>\n",
       "<tr>\n",
       "  <th>Model:</th>                   <td>OLS</td>       <th>  Adj. R-squared:    </th> <td>   0.367</td> \n",
       "</tr>\n",
       "<tr>\n",
       "  <th>Method:</th>             <td>Least Squares</td>  <th>  F-statistic:       </th> <td>   845.5</td> \n",
       "</tr>\n",
       "<tr>\n",
       "  <th>Date:</th>             <td>Sat, 20 May 2023</td> <th>  Prob (F-statistic):</th> <td>5.39e-147</td>\n",
       "</tr>\n",
       "<tr>\n",
       "  <th>Time:</th>                 <td>13:32:48</td>     <th>  Log-Likelihood:    </th> <td> -18210.</td> \n",
       "</tr>\n",
       "<tr>\n",
       "  <th>No. Observations:</th>      <td>  1460</td>      <th>  AIC:               </th> <td>3.642e+04</td>\n",
       "</tr>\n",
       "<tr>\n",
       "  <th>Df Residuals:</th>          <td>  1458</td>      <th>  BIC:               </th> <td>3.643e+04</td>\n",
       "</tr>\n",
       "<tr>\n",
       "  <th>Df Model:</th>              <td>     1</td>      <th>                     </th>     <td> </td>    \n",
       "</tr>\n",
       "<tr>\n",
       "  <th>Covariance Type:</th>      <td>nonrobust</td>    <th>                     </th>     <td> </td>    \n",
       "</tr>\n",
       "</table>\n",
       "<table class=\"simpletable\">\n",
       "<tr>\n",
       "    <td></td>       <th>coef</th>     <th>std err</th>      <th>t</th>      <th>P>|t|</th>  <th>[0.025</th>    <th>0.975]</th>  \n",
       "</tr>\n",
       "<tr>\n",
       "  <th>const</th> <td> 3.617e+04</td> <td> 5245.728</td> <td>    6.896</td> <td> 0.000</td> <td> 2.59e+04</td> <td> 4.65e+04</td>\n",
       "</tr>\n",
       "<tr>\n",
       "  <th>x1</th>    <td>  124.5006</td> <td>    4.282</td> <td>   29.078</td> <td> 0.000</td> <td>  116.102</td> <td>  132.899</td>\n",
       "</tr>\n",
       "</table>\n",
       "<table class=\"simpletable\">\n",
       "<tr>\n",
       "  <th>Omnibus:</th>       <td>373.497</td> <th>  Durbin-Watson:     </th> <td>   1.955</td>\n",
       "</tr>\n",
       "<tr>\n",
       "  <th>Prob(Omnibus):</th> <td> 0.000</td>  <th>  Jarque-Bera (JB):  </th> <td>2669.199</td>\n",
       "</tr>\n",
       "<tr>\n",
       "  <th>Skew:</th>          <td> 0.997</td>  <th>  Prob(JB):          </th> <td>    0.00</td>\n",
       "</tr>\n",
       "<tr>\n",
       "  <th>Kurtosis:</th>      <td> 9.317</td>  <th>  Cond. No.          </th> <td>3.88e+03</td>\n",
       "</tr>\n",
       "</table><br/><br/>Notes:<br/>[1] Standard Errors assume that the covariance matrix of the errors is correctly specified.<br/>[2] The condition number is large, 3.88e+03. This might indicate that there are<br/>strong multicollinearity or other numerical problems."
      ],
      "text/plain": [
       "<class 'statsmodels.iolib.summary.Summary'>\n",
       "\"\"\"\n",
       "                            OLS Regression Results                            \n",
       "==============================================================================\n",
       "Dep. Variable:                      y   R-squared:                       0.367\n",
       "Model:                            OLS   Adj. R-squared:                  0.367\n",
       "Method:                 Least Squares   F-statistic:                     845.5\n",
       "Date:                Sat, 20 May 2023   Prob (F-statistic):          5.39e-147\n",
       "Time:                        13:32:48   Log-Likelihood:                -18210.\n",
       "No. Observations:                1460   AIC:                         3.642e+04\n",
       "Df Residuals:                    1458   BIC:                         3.643e+04\n",
       "Df Model:                           1                                         \n",
       "Covariance Type:            nonrobust                                         \n",
       "==============================================================================\n",
       "                 coef    std err          t      P>|t|      [0.025      0.975]\n",
       "------------------------------------------------------------------------------\n",
       "const       3.617e+04   5245.728      6.896      0.000    2.59e+04    4.65e+04\n",
       "x1           124.5006      4.282     29.078      0.000     116.102     132.899\n",
       "==============================================================================\n",
       "Omnibus:                      373.497   Durbin-Watson:                   1.955\n",
       "Prob(Omnibus):                  0.000   Jarque-Bera (JB):             2669.199\n",
       "Skew:                           0.997   Prob(JB):                         0.00\n",
       "Kurtosis:                       9.317   Cond. No.                     3.88e+03\n",
       "==============================================================================\n",
       "\n",
       "Notes:\n",
       "[1] Standard Errors assume that the covariance matrix of the errors is correctly specified.\n",
       "[2] The condition number is large, 3.88e+03. This might indicate that there are\n",
       "strong multicollinearity or other numerical problems.\n",
       "\"\"\""
      ]
     },
     "execution_count": 32,
     "metadata": {},
     "output_type": "execute_result"
    }
   ],
   "source": [
    "X = train_df['FirstFlrSF'].to_numpy()\n",
    "y = train_df['SalePrice'].to_numpy()\n",
    "\n",
    "X = sm.add_constant(X)\n",
    "mod = sm.OLS(y,X)\n",
    "res = mod.fit()\n",
    "res.summary()"
   ]
  },
  {
   "cell_type": "code",
   "execution_count": null,
   "id": "5a2241c2-5eba-40e2-8a29-63c90ae705d3",
   "metadata": {},
   "outputs": [],
   "source": [
    "X = train_df['FirstFlrSF'].to_numpy()\n",
    "y = train_df['SalePrice'].to_numpy()\n",
    "\n",
    "b0, b1 = estimate_ols(X,y)"
   ]
  },
  {
   "cell_type": "code",
   "execution_count": null,
   "id": "d8628e43-960f-4bce-b5e3-dcf854350fb7",
   "metadata": {},
   "outputs": [],
   "source": [
    "fig, ax = plt.subplots()\n",
    "x = train_df\n",
    "ax.scatter(x['FirstFlrSF'],x['SalePrice'])\n",
    "ax.axline((0,res.params[0]),(-res.params[0]/res.params[1],0),color='black')"
   ]
  },
  {
   "cell_type": "code",
   "execution_count": null,
   "id": "60016a9f-8a10-4eb8-a3b9-cb102ac9ebc3",
   "metadata": {},
   "outputs": [],
   "source": [
    "def rss(pred,y):\n",
    "    diff = y - pred\n",
    "\n",
    "    return np.inner(diff,diff)"
   ]
  },
  {
   "cell_type": "code",
   "execution_count": null,
   "id": "9d62d8f1-439d-4dc4-9f9b-43491b47147b",
   "metadata": {},
   "outputs": [],
   "source": [
    "def rse(x,b0,b1,std,n,pred):\n",
    "    return np.sqrt( rss( pred,generate_linear_funct(x,b0,b1,std,real=True) )/(n-2) )"
   ]
  },
  {
   "cell_type": "code",
   "execution_count": null,
   "id": "2bba2d23-d20e-44e6-86a4-fb79c5a19f1a",
   "metadata": {},
   "outputs": [],
   "source": [
    "def estimate_variance(y,n,pred):\n",
    "    return rss( pred,y )/(n-2)"
   ]
  },
  {
   "cell_type": "code",
   "execution_count": null,
   "id": "b1ae5709-3e12-4a09-a170-8738465b75d1",
   "metadata": {},
   "outputs": [],
   "source": [
    "def se_b0(x,n,variance):\n",
    "    x_mean = np.mean(x)\n",
    "    return variance*(1/n + x_mean**2 / np.inner( x-x_mean,x-x_mean ))"
   ]
  },
  {
   "cell_type": "code",
   "execution_count": null,
   "id": "82362b81-120f-4df7-a0da-e9e6026dc4fb",
   "metadata": {},
   "outputs": [],
   "source": [
    "def se_b1(x,variance):\n",
    "    x_mean = np.mean(x)\n",
    "    return variance/np.inner( x-x_mean,x-x_mean )"
   ]
  },
  {
   "cell_type": "code",
   "execution_count": null,
   "id": "02ba7e42-a6ee-45d6-b729-d03abe5ac5a3",
   "metadata": {},
   "outputs": [],
   "source": [
    "n = X.shape[0]\n",
    "pred = res.predict()\n",
    "\n",
    "se0 = se_b0(X,n,estimate_variance( y, n,pred))\n",
    "seb1 = se_b1(X,estimate_variance( y,n,pred))\n",
    "\n",
    "\n",
    "print('Standard error: ',(np.sqrt(se0), np.sqrt(seb1)))\n",
    "print('Confidence interval for b0: ',(b0 - 2*np.sqrt(se0), b0 + 2*np.sqrt(se0)))\n",
    "print('Confidence interval for b1: ',(b1 - 2*np.sqrt(seb1), b1 + 2*np.sqrt(seb1)))"
   ]
  },
  {
   "cell_type": "code",
   "execution_count": null,
   "id": "d88aeac3-8aa3-419e-949c-305d387b4429",
   "metadata": {},
   "outputs": [],
   "source": [
    "X = sm.add_constant(X)\n",
    "mod = sm.OLS(y,X)\n",
    "res = mod.fit()\n",
    "res.summary()"
   ]
  }
 ],
 "metadata": {
  "kernelspec": {
   "display_name": "Python 3 (ipykernel)",
   "language": "python",
   "name": "python3"
  },
  "language_info": {
   "codemirror_mode": {
    "name": "ipython",
    "version": 3
   },
   "file_extension": ".py",
   "mimetype": "text/x-python",
   "name": "python",
   "nbconvert_exporter": "python",
   "pygments_lexer": "ipython3",
   "version": "3.10.9"
  }
 },
 "nbformat": 4,
 "nbformat_minor": 5
}
