{
 "cells": [
  {
   "cell_type": "code",
   "execution_count": null,
   "id": "05311350-51d4-4975-9bcf-3b9e48e36160",
   "metadata": {},
   "outputs": [],
   "source": [
    "import pandas as pd\n",
    "import matplotlib.pyplot as plt\n",
    "%matplotlib inline\n",
    "from wordcloud import WordCloud"
   ]
  },
  {
   "cell_type": "code",
   "execution_count": null,
   "id": "b7967a38-8357-42cb-b5cd-a5771403a9e1",
   "metadata": {},
   "outputs": [],
   "source": [
    "df_train = pd.read_csv('train.csv')"
   ]
  },
  {
   "cell_type": "code",
   "execution_count": null,
   "id": "e3312854-b474-407f-85ee-868e853ce96a",
   "metadata": {},
   "outputs": [],
   "source": [
    "df_train.head()"
   ]
  },
  {
   "cell_type": "code",
   "execution_count": null,
   "id": "03d7cac1-5edd-46db-916d-36e4698a4edb",
   "metadata": {},
   "outputs": [],
   "source": [
    "text1 = \" \".join(title for title in df_train.Title)"
   ]
  },
  {
   "cell_type": "code",
   "execution_count": null,
   "id": "e12aaa13-14f2-4e49-b222-4ec1ed6c0ddd",
   "metadata": {},
   "outputs": [],
   "source": [
    "word_cloud1 = WordCloud(collocations = False, background_color = 'white',\n",
    "                        width = 2048, height = 1080).generate(text1)\n",
    "\n",
    "word_cloud1.to_file('imagen.png'"
   ]
  },
  {
   "cell_type": "code",
   "execution_count": null,
   "id": "3c428225-93f8-48ca-a03b-30ecc82c4f96",
   "metadata": {},
   "outputs": [],
   "source": [
    "plt.imshow(word_cloud1, interpolation='bilinear')\n",
    "plt.axis(\"off\")\n",
    "plt.show()"
   ]
  }
 ],
 "metadata": {
  "kernelspec": {
   "display_name": "Python 3 (ipykernel)",
   "language": "python",
   "name": "python3"
  },
  "language_info": {
   "codemirror_mode": {
    "name": "ipython",
    "version": 3
   },
   "file_extension": ".py",
   "mimetype": "text/x-python",
   "name": "python",
   "nbconvert_exporter": "python",
   "pygments_lexer": "ipython3",
   "version": "3.10.9"
  }
 },
 "nbformat": 4,
 "nbformat_minor": 5
}
