{
 "cells": [
  {
   "cell_type": "code",
   "execution_count": null,
   "id": "5c8c4e77-201f-47e4-a1ef-2faba999f022",
   "metadata": {},
   "outputs": [],
   "source": [
    "import pandas as pd\n",
    "import matplotlib.pyplot as plt\n",
    "import seaborn as sns\n",
    "import numpy as np\n",
    "from scipy.stats import norm\n",
    "from sklearn.preprocessing import StandardScaler\n",
    "from scipy import stats\n",
    "import warnings"
   ]
  },
  {
   "cell_type": "code",
   "execution_count": null,
   "id": "f7fe21a2-a453-40b3-9e54-37248d5f1e9a",
   "metadata": {},
   "outputs": [],
   "source": [
    "df_train = pd.read_csv('train.csv')"
   ]
  },
  {
   "cell_type": "code",
   "execution_count": null,
   "id": "359c1782-76c9-4828-b17f-103a1ce9dead",
   "metadata": {},
   "outputs": [],
   "source": [
    "%matplotlib inline"
   ]
  },
  {
   "cell_type": "code",
   "execution_count": null,
   "id": "9ca80df6-c096-453e-84cd-a567fa4ac4b8",
   "metadata": {},
   "outputs": [],
   "source": [
    "df_train['SalePrice'].mean()"
   ]
  },
  {
   "cell_type": "code",
   "execution_count": null,
   "id": "fab3e86f-116d-4ae0-99f2-88cbf088cd56",
   "metadata": {},
   "outputs": [],
   "source": [
    "df_train.describe()"
   ]
  },
  {
   "cell_type": "code",
   "execution_count": null,
   "id": "e12d0fa4-5c0e-48b3-8abf-2dc0083dc40a",
   "metadata": {},
   "outputs": [],
   "source": [
    "df_train['SalePrice'].describe()"
   ]
  },
  {
   "cell_type": "code",
   "execution_count": null,
   "id": "6128b748-ecf9-47a9-8172-eb9d535d33fb",
   "metadata": {},
   "outputs": [],
   "source": [
    "sns.distplot(df_train['SalePrice'])"
   ]
  },
  {
   "cell_type": "code",
   "execution_count": null,
   "id": "3cff241a-5075-427f-a03c-0aecc90782ee",
   "metadata": {},
   "outputs": [],
   "source": [
    "df_train['SalePrice'].skew()"
   ]
  },
  {
   "cell_type": "code",
   "execution_count": null,
   "id": "94ed855c-3ec2-4e1b-80c4-b1878864598b",
   "metadata": {},
   "outputs": [],
   "source": [
    "df_train['SalePrice'].kurt()"
   ]
  },
  {
   "cell_type": "code",
   "execution_count": null,
   "id": "8f900aee-ff94-4bc5-a5cd-e5cc191e49b0",
   "metadata": {},
   "outputs": [],
   "source": [
    "var = 'GrLivArea'"
   ]
  },
  {
   "cell_type": "code",
   "execution_count": null,
   "id": "5afe5285-7fdd-42c5-b5c1-b7fbb874f2c9",
   "metadata": {},
   "outputs": [],
   "source": [
    "data = pd.concat([df_train['SalePrice'],df_train[var]], axis=1)"
   ]
  },
  {
   "cell_type": "code",
   "execution_count": null,
   "id": "e4b76098-dcb1-4eb8-9933-731cca0eedc9",
   "metadata": {},
   "outputs": [],
   "source": [
    "data.plot.scatter(x=var, y='SalePrice', ylim=(0,800000));"
   ]
  }
 ],
 "metadata": {
  "kernelspec": {
   "display_name": "Python 3 (ipykernel)",
   "language": "python",
   "name": "python3"
  },
  "language_info": {
   "codemirror_mode": {
    "name": "ipython",
    "version": 3
   },
   "file_extension": ".py",
   "mimetype": "text/x-python",
   "name": "python",
   "nbconvert_exporter": "python",
   "pygments_lexer": "ipython3",
   "version": "3.10.9"
  }
 },
 "nbformat": 4,
 "nbformat_minor": 5
}
