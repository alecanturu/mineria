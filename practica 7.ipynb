{
 "cells": [
  {
   "cell_type": "code",
   "execution_count": null,
   "id": "e159201b-fffb-4902-b1e1-ca4f6a80da45",
   "metadata": {},
   "outputs": [],
   "source": [
    "import pandas as pd\n",
    "import numpy as np\n",
    "import seaborn as sns\n",
    "import matplotlib\n",
    "\n",
    "import matplotlib.pyplot as plt\n",
    "from scipy.stats import skew\n",
    "from scipy.stats.stats import pearsonr\n"
   ]
  },
  {
   "cell_type": "code",
   "execution_count": null,
   "id": "5e0dc78b-a9ae-4cbd-b3ce-9e45e217f7f7",
   "metadata": {},
   "outputs": [],
   "source": [
    "train = pd.read_csv('train.csv')"
   ]
  },
  {
   "cell_type": "code",
   "execution_count": null,
   "id": "4c9fe360-d84b-48db-810e-6f47c25a6e54",
   "metadata": {},
   "outputs": [],
   "source": [
    "test = pd.read_csv('test.csv')"
   ]
  },
  {
   "cell_type": "code",
   "execution_count": null,
   "id": "cf617dbe-412e-4365-86bf-e3528a867f76",
   "metadata": {},
   "outputs": [],
   "source": [
    "train .corr().iloc[-1].sort_values(ascending=False)"
   ]
  },
  {
   "cell_type": "code",
   "execution_count": null,
   "id": "ba844d49-5847-431b-a483-5c4088a71143",
   "metadata": {},
   "outputs": [],
   "source": [
    "str_columns = train.drop(train.corr().index.to_list(), axis=1).columns.to_list()\n",
    "train_ohe = train.copy()\n",
    "map_dict = {}\n",
    "\n",
    "for column in str_columns:\n",
    "    encoded, labels = pd.factorize(train[column])\n",
    "    train_ohe[column] = encoded\n",
    "    map_dict[column] = labels\n",
    "    \n",
    "train_ohe = train_df_ohe.fillna(0)"
   ]
  },
  {
   "cell_type": "code",
   "execution_count": null,
   "id": "8b0223da-5c15-4d2b-9b56-d576e23082d1",
   "metadata": {},
   "outputs": [],
   "source": [
    "test_ohe = test.copy()\n",
    "\n",
    "for column in str_columns:\n",
    "    remap_dict = dict(enumerate(map_dict[column]))\n",
    "    remap_dict[-1] = np.nan\n",
    "    remap_dict = {value: key for key, value in remap_dict.items()}\n",
    "    \n",
    "    test_ohe[column] = [remap_dict[label] for label in test[column]]\n",
    "\n",
    "test_ohe = test_ohe.fillna(0)"
   ]
  },
  {
   "cell_type": "code",
   "execution_count": null,
   "id": "f0fbf1c7-11a7-4b83-a9a2-f0007833faec",
   "metadata": {},
   "outputs": [],
   "source": [
    "rf = RandomForestRegressor()\n",
    "parameters  = {'n_estimators': range(10, 51, 10),\n",
    "               'max_depth': range(1, 13, 1),\n",
    "               'min_samples_leaf': range(1, 8),\n",
    "               'min_samples_split': range(2, 10, 2)}\n",
    "clf = GridSearchCV(estimator=rf, param_grid=parameters, cv=5, n_jobs=-1, scoring='neg_mean_squared_error')"
   ]
  },
  {
   "cell_type": "code",
   "execution_count": null,
   "id": "9735ff1c-66ae-49e9-aea0-4a536b107af6",
   "metadata": {},
   "outputs": [],
   "source": [
    "clf.fit(X_train, y_train)"
   ]
  },
  {
   "cell_type": "code",
   "execution_count": null,
   "id": "7557d9fc-3de1-4d63-b9b5-b087a90eab33",
   "metadata": {},
   "outputs": [],
   "source": [
    "rf_best = clf.best_estimator_\n",
    "clf.best_params_"
   ]
  },
  {
   "cell_type": "code",
   "execution_count": null,
   "id": "953d0a3e-eb86-4299-ade6-f929caa443b5",
   "metadata": {},
   "outputs": [],
   "source": [
    "clf.best_score_"
   ]
  },
  {
   "cell_type": "code",
   "execution_count": null,
   "id": "c80ba7b6-53c3-4679-9f45-62af4e7d6afe",
   "metadata": {},
   "outputs": [],
   "source": [
    "feature_importance = pd.DataFrame({\n",
    "    'feature': list(X_train),\n",
    "    'importance': rf_best.feature_importances_\n",
    "    }).sort_values(by='importance', ascending=False)\n",
    "feature_importance.T"
   ]
  },
  {
   "cell_type": "code",
   "execution_count": null,
   "id": "53e5fbc6-5347-40bb-8250-9fc81783cddb",
   "metadata": {},
   "outputs": [],
   "source": [
    "X_test_final = test_ohe[X.columns]\n",
    "y_forecast_final = pd.Series(rf_best.predict(X_test_final))"
   ]
  },
  {
   "cell_type": "code",
   "execution_count": null,
   "id": "1a711ba9-2aeb-491e-8478-e05d27216d2b",
   "metadata": {},
   "outputs": [],
   "source": [
    "results = (pd.concat([test_df_ohe.Id, y_forecast_final], axis=1)\n",
    "           .rename(columns={0: 'SalePrice'}))\n",
    "results"
   ]
  }
 ],
 "metadata": {
  "kernelspec": {
   "display_name": "Python 3 (ipykernel)",
   "language": "python",
   "name": "python3"
  },
  "language_info": {
   "codemirror_mode": {
    "name": "ipython",
    "version": 3
   },
   "file_extension": ".py",
   "mimetype": "text/x-python",
   "name": "python",
   "nbconvert_exporter": "python",
   "pygments_lexer": "ipython3",
   "version": "3.10.9"
  }
 },
 "nbformat": 4,
 "nbformat_minor": 5
}
