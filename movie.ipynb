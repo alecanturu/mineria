{
 "cells": [
  {
   "cell_type": "code",
   "execution_count": null,
   "id": "2cb48af9-3a3f-401b-8f58-049b67645ddb",
   "metadata": {},
   "outputs": [],
   "source": [
    "import numpy as np\n",
    "import pandas as pd\n",
    "import seaborn as sns\n",
    "import pycountry\n",
    "\n",
    "import matplotlib.pyplot as plt\n",
    "\n",
    "%matplotlib inline"
   ]
  },
  {
   "cell_type": "code",
   "execution_count": null,
   "id": "7fdc082f-35aa-43b2-90cf-3fc011196bb9",
   "metadata": {},
   "outputs": [],
   "source": [
    "!pip install pycountry"
   ]
  },
  {
   "cell_type": "code",
   "execution_count": null,
   "id": "d9621261-bd53-46a6-88f7-01683436a679",
   "metadata": {},
   "outputs": [],
   "source": [
    "credits = pd.read_csv('tmdb_5000_credits.csv')\n",
    "movies = pd.read_csv('tmdb_5000_movies.csv')"
   ]
  },
  {
   "cell_type": "code",
   "execution_count": null,
   "id": "8b90df4f-c36f-403b-9136-212d8fe7cc27",
   "metadata": {},
   "outputs": [],
   "source": [
    "print('The credits data set has {} rows and {} columns'.format(credits.shape[0], credits.shape[1]))"
   ]
  },
  {
   "cell_type": "code",
   "execution_count": null,
   "id": "d5163342-f005-4436-b84f-12cccbf1e02d",
   "metadata": {},
   "outputs": [],
   "source": [
    "print('The movies data set has {} rows and {} columns'.format(movies.shape[0], movies.shape[1]))"
   ]
  },
  {
   "cell_type": "code",
   "execution_count": null,
   "id": "dde50371-8f46-4020-8e5a-ff650abd5f84",
   "metadata": {},
   "outputs": [],
   "source": [
    "movies.rename(columns={'id':'movie_id'},inplace=True)"
   ]
  },
  {
   "cell_type": "code",
   "execution_count": null,
   "id": "2f477179-999f-4879-84b7-ce696f2c30d6",
   "metadata": {},
   "outputs": [],
   "source": [
    "combined_df = movies.merge(credits,on='movie_id')\n",
    "combined_df.head(2)"
   ]
  },
  {
   "cell_type": "code",
   "execution_count": null,
   "id": "fe06d83d-7cf4-4825-8cb7-17fdbd04158d",
   "metadata": {},
   "outputs": [],
   "source": [
    "movies.rename(columns={'id':'movie_id'},inplace=True)"
   ]
  },
  {
   "cell_type": "code",
   "execution_count": null,
   "id": "8a744fa2-3bec-4ea3-955b-7a76c0ae7ffe",
   "metadata": {},
   "outputs": [],
   "source": [
    "combined_df = movies.merge(credits,on='movie_id')\n",
    "combined_df.head(2)"
   ]
  },
  {
   "cell_type": "code",
   "execution_count": null,
   "id": "70c7bf93-ac46-4366-9f8e-23eb9affb401",
   "metadata": {},
   "outputs": [],
   "source": [
    "combined_df.info()"
   ]
  },
  {
   "cell_type": "code",
   "execution_count": null,
   "id": "040c21f9-448a-4616-931c-028c7cbdccc7",
   "metadata": {},
   "outputs": [],
   "source": [
    "combined_df.columns"
   ]
  },
  {
   "cell_type": "code",
   "execution_count": null,
   "id": "0ae728d6-8616-41c9-b8f2-448879227d84",
   "metadata": {},
   "outputs": [],
   "source": [
    "cols = [2, 4, 7, 11, 15, 16, 17, 20, 21, 22]\n",
    "combined_df.drop(combined_df.columns[cols],axis=1, inplace=True)"
   ]
  },
  {
   "cell_type": "code",
   "execution_count": null,
   "id": "6265495c-1dd0-4178-b601-60ae1b728fed",
   "metadata": {},
   "outputs": [],
   "source": [
    "combined_df.columns"
   ]
  },
  {
   "cell_type": "code",
   "execution_count": null,
   "id": "872b9e8d-c12b-4086-9aa9-32d7855390c7",
   "metadata": {},
   "outputs": [],
   "source": [
    "combined_df.isnull().sum()"
   ]
  },
  {
   "cell_type": "code",
   "execution_count": null,
   "id": "6bb5f6c9-406f-4f37-a42d-9b45e7e57b7d",
   "metadata": {},
   "outputs": [],
   "source": [
    "combined_df.dropna(inplace=True)"
   ]
  },
  {
   "cell_type": "code",
   "execution_count": null,
   "id": "75fd25bf-f6a0-4560-bac5-38c8dc06b3e7",
   "metadata": {},
   "outputs": [],
   "source": [
    "combined_df.isnull().sum()"
   ]
  },
  {
   "cell_type": "code",
   "execution_count": null,
   "id": "ebb1060e-d34d-4293-8286-89eaa28169ac",
   "metadata": {},
   "outputs": [],
   "source": [
    "combined_df.head(2)"
   ]
  },
  {
   "cell_type": "code",
   "execution_count": null,
   "id": "5c62dd23-733c-495a-97d6-2e71c7df54dc",
   "metadata": {},
   "outputs": [],
   "source": [
    "def get_language(code):\n",
    "    try:\n",
    "        name = pycountry.languages.get(alpha_2=code).name\n",
    "    except AttributeError:\n",
    "        name = code\n",
    "    finally:\n",
    "        return name"
   ]
  },
  {
   "cell_type": "code",
   "execution_count": null,
   "id": "b5655484-32b9-4c42-8530-9335ec81656a",
   "metadata": {},
   "outputs": [],
   "source": [
    "combined_df['original_language'] = combined_df['original_language'].map(get_language)"
   ]
  },
  {
   "cell_type": "code",
   "execution_count": null,
   "id": "aae0f875-4568-4395-a5c6-0e24a27c6c74",
   "metadata": {},
   "outputs": [],
   "source": [
    "combined_df.head()"
   ]
  },
  {
   "cell_type": "code",
   "execution_count": null,
   "id": "a46fdf5d-5930-4d45-b7d3-c3f2a99064d5",
   "metadata": {},
   "outputs": [],
   "source": [
    "combined_df.original_language.unique()"
   ]
  },
  {
   "cell_type": "code",
   "execution_count": null,
   "id": "5eb711df-35fe-4d10-af97-d9c222f3eed0",
   "metadata": {},
   "outputs": [],
   "source": [
    "language_counts = combined_df.original_language.value_counts()\n",
    "df = pd.DataFrame(language_counts)\n",
    "df.reset_index(inplace=True)\n",
    "\n",
    "# Change the column names\n",
    "cols = ['Languages', 'counts']\n",
    "df.rename(columns={'index': 'languages', 'original_language': 'counts'}, inplace=True)"
   ]
  },
  {
   "cell_type": "code",
   "execution_count": null,
   "id": "35d99648-4ec6-4e44-b91a-b693df83adcc",
   "metadata": {},
   "outputs": [],
   "source": [
    "sns.set_theme(style=\"whitegrid\")\n",
    "\n",
    "# Initialize the matplotlib figure\n",
    "f, ax = plt.subplots(figsize=(10, 10))\n",
    "sns.barplot(x=\"counts\", y=\"languages\", data=df.iloc[:5],\n",
    "            label=\"Total\", color=\"r\");"
   ]
  },
  {
   "cell_type": "code",
   "execution_count": null,
   "id": "3274290b-4b2e-4685-b76d-cfec0a101a43",
   "metadata": {},
   "outputs": [],
   "source": [
    "combined_df.describe()"
   ]
  },
  {
   "cell_type": "code",
   "execution_count": null,
   "id": "5eab5694-a1dc-4b3d-8a9e-94775ab81c83",
   "metadata": {},
   "outputs": [],
   "source": []
  },
  {
   "cell_type": "code",
   "execution_count": null,
   "id": "929bb8f6-74aa-414d-9d32-6fa2a9d4b8ba",
   "metadata": {},
   "outputs": [],
   "source": [
    "combined_df.hist(figsize=(18,10));"
   ]
  },
  {
   "cell_type": "code",
   "execution_count": null,
   "id": "1b784272-99f0-4538-b35d-394f86f84375",
   "metadata": {},
   "outputs": [],
   "source": [
    "sns.regplot(data=combined_df, x='budget', y='revenue');"
   ]
  },
  {
   "cell_type": "code",
   "execution_count": null,
   "id": "4e8cf4ef-8f27-47e6-981c-6922c039f1f8",
   "metadata": {},
   "outputs": [],
   "source": [
    "sns.regplot(data=combined_df, x='budget', y='popularity');"
   ]
  },
  {
   "cell_type": "code",
   "execution_count": null,
   "id": "a1314db2-b0d0-4a76-b396-4afe64201915",
   "metadata": {},
   "outputs": [],
   "source": [
    "sns.scatterplot(data=combined_df, x='runtime', y='vote_average');"
   ]
  }
 ],
 "metadata": {
  "kernelspec": {
   "display_name": "Python 3 (ipykernel)",
   "language": "python",
   "name": "python3"
  },
  "language_info": {
   "codemirror_mode": {
    "name": "ipython",
    "version": 3
   },
   "file_extension": ".py",
   "mimetype": "text/x-python",
   "name": "python",
   "nbconvert_exporter": "python",
   "pygments_lexer": "ipython3",
   "version": "3.10.9"
  }
 },
 "nbformat": 4,
 "nbformat_minor": 5
}
